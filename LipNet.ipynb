{
 "cells": [
  {
   "cell_type": "markdown",
   "metadata": {},
   "source": [
    "# Real Time Lip Reader!"
   ]
  },
  {
   "cell_type": "code",
   "execution_count": 169,
   "metadata": {},
   "outputs": [],
   "source": [
    "import os\n",
    "import cv2 \n",
    "import tensorflow as tf \n",
    "import numpy as np \n",
    "from typing import List\n",
    "from matplotlib import pyplot as plt \n",
    "import imageio"
   ]
  },
  {
   "cell_type": "code",
   "execution_count": 170,
   "metadata": {},
   "outputs": [],
   "source": [
    "phys = tf.config.list_physical_devices('GPU')\n",
    "try:\n",
    "    tf.config.experimental.set_memory_growth(phys[0], True)\n",
    "except:\n",
    "    pass"
   ]
  },
  {
   "cell_type": "markdown",
   "metadata": {},
   "source": [
    "## Data loading functions to preprocess the videos and annotations"
   ]
  },
  {
   "cell_type": "code",
   "execution_count": 171,
   "metadata": {},
   "outputs": [],
   "source": [
    "def load_video(path:str)->List[float]:\n",
    "    cap = cv2.VideoCapture(path)\n",
    "    frames = []\n",
    "    #store all frames\n",
    "    for _ in range(int(cap.get(cv2.CAP_PROP_FRAME_COUNT))):\n",
    "        ret, frame = cap.read()\n",
    "        frame = tf.image.rgb_to_grayscale(frame)\n",
    "        #isolate mouth region \n",
    "        # (im not going to use a dlib mouth extractor sorry)\n",
    "        frames.append(frame[190:236, 80:220, :])\n",
    "    cap.release()\n",
    "\n",
    "    #mean and std of the frames\n",
    "    mean = tf.math.reduce_mean(tf.cast(frames, tf.float32))\n",
    "    \n",
    "    std = tf.math.reduce_std(tf.cast(frames, tf.float32))\n",
    "    return tf.cast((frames - mean)/std, tf.float32)\n"
   ]
  },
  {
   "cell_type": "code",
   "execution_count": 172,
   "metadata": {},
   "outputs": [],
   "source": [
    "vocab = [x for x in \"abcdefghijklmnopqrstuvwxyz'?!123456789 \"]"
   ]
  },
  {
   "cell_type": "code",
   "execution_count": 173,
   "metadata": {},
   "outputs": [
    {
     "name": "stdout",
     "output_type": "stream",
     "text": [
      "The vocab is: ['', 'a', 'b', 'c', 'd', 'e', 'f', 'g', 'h', 'i', 'j', 'k', 'l', 'm', 'n', 'o', 'p', 'q', 'r', 's', 't', 'u', 'v', 'w', 'x', 'y', 'z', \"'\", '?', '!', '1', '2', '3', '4', '5', '6', '7', '8', '9', ' '](size = 40)\n"
     ]
    }
   ],
   "source": [
    "#now we can use a string lookup loss function\n",
    "#this is a custom loss function that will take the string and convert to num\n",
    "\n",
    "char_to_num = tf.keras.layers.StringLookup(vocabulary=vocab, oov_token='')\n",
    "num_to_char = tf.keras.layers.StringLookup(vocabulary=char_to_num.get_vocabulary(), oov_token='', invert=True)\n",
    "\n",
    "print(\n",
    "    f\"The vocab is: {char_to_num.get_vocabulary()}\"\n",
    "    f\"(size = {char_to_num.vocabulary_size()})\"\n",
    ")"
   ]
  },
  {
   "cell_type": "code",
   "execution_count": 174,
   "metadata": {},
   "outputs": [
    {
     "name": "stdout",
     "output_type": "stream",
     "text": [
      "tf.Tensor([ 1  8 13  1  4], shape=(5,), dtype=int64)\n",
      "tf.Tensor([b'a' b'h' b'm' b'a' b'd'], shape=(5,), dtype=string)\n"
     ]
    }
   ],
   "source": [
    "print(char_to_num(['a', 'h', 'm', 'a', 'd']))\n",
    "print(num_to_char([1, 8, 13, 1, 4]))"
   ]
  },
  {
   "cell_type": "code",
   "execution_count": 175,
   "metadata": {},
   "outputs": [],
   "source": [
    "def load_alignments(path:str)->List[str]:\n",
    "    with open(path, 'r') as f:\n",
    "        lines = f.readlines()\n",
    "    #read all the alignments and split them up\n",
    "    tokens = []\n",
    "    for line in lines:\n",
    "        line = line.split()\n",
    "        #if it contains silence we do not need if ofc\n",
    "        if line[2] != 'sil':\n",
    "            tokens = [*tokens, ' ', line[2]]\n",
    "    return char_to_num(tf.reshape(tf.strings.unicode_split(tokens, input_encoding='UTF-8'), (-1)))[1:]\n"
   ]
  },
  {
   "cell_type": "code",
   "execution_count": 176,
   "metadata": {},
   "outputs": [],
   "source": [
    "def load_data(path: str): \n",
    "    path = bytes.decode(path.numpy())\n",
    "    file_name = path.split('\\\\')[-1].split('.')[0]\n",
    "    video_path = os.path.join('data', 'data', 's1', f'{file_name}.mpg')\n",
    "    alignment_path = os.path.join('data','data','alignments','s1',f'{file_name}.align')\n",
    "    frames = load_video(video_path) \n",
    "    alignments = load_alignments(alignment_path)\n",
    "    return frames, alignments"
   ]
  },
  {
   "cell_type": "code",
   "execution_count": 177,
   "metadata": {},
   "outputs": [],
   "source": [
    "path1 = '.data\\\\data\\\\s1\\\\bbaf2n.mpg'\n",
    "#tf.convert_to_tensor(path1).numpy().decode('utf-8').split('\\\\')[-1].split('.')[0]"
   ]
  },
  {
   "cell_type": "code",
   "execution_count": 178,
   "metadata": {},
   "outputs": [
    {
     "data": {
      "text/plain": [
       "<matplotlib.image.AxesImage at 0x18b5b266370>"
      ]
     },
     "execution_count": 178,
     "metadata": {},
     "output_type": "execute_result"
    },
    {
     "data": {
      "image/png": "[encoded data removed]",
      "text/plain": [
       "<Figure size 640x480 with 1 Axes>"
      ]
     },
     "metadata": {},
     "output_type": "display_data"
    }
   ],
   "source": [
    "frames, alignments = load_data(tf.convert_to_tensor(path1))\n",
    "plt.imshow(frames[0])"
   ]
  },
  {
   "cell_type": "code",
   "execution_count": 179,
   "metadata": {},
   "outputs": [
    {
     "data": {
      "text/plain": [
       "<tf.Tensor: shape=(), dtype=string, numpy=b'bin blue at f two now'>"
      ]
     },
     "execution_count": 179,
     "metadata": {},
     "output_type": "execute_result"
    }
   ],
   "source": [
    "tf.strings.reduce_join([bytes.decode(x) for x in num_to_char(alignments.numpy()).numpy()])"
   ]
  },
  {
   "cell_type": "code",
   "execution_count": 180,
   "metadata": {},
   "outputs": [],
   "source": [
    "def mappable_fn(path):\n",
    "    #for string processing for whatever reason it doesn't \n",
    "    #work without this. Maps the load data func as a py_function\n",
    "    return tf.py_function(load_data, [path], (tf.float32, tf.int64))"
   ]
  },
  {
   "cell_type": "markdown",
   "metadata": {},
   "source": [
    "## Data Pipeline"
   ]
  },
  {
   "cell_type": "code",
   "execution_count": 200,
   "metadata": {},
   "outputs": [],
   "source": [
    "#get all files ending in .mpg and then shuffle + mappable func\n",
    "data = tf.data.Dataset.list_files('data/data/s1/*.mpg')\n",
    "data = data.shuffle(500, reshuffle_each_iteration=True)\n",
    "data = data.map(mappable_fn)\n",
    "#batches of 2, pad with zeros if less than 40\n",
    "data = data.padded_batch(2, padded_shapes=([75, None, None, None], [40]))\n",
    "#preloading as training is happenign\n",
    "data = data.prefetch(tf.data.AUTOTUNE)\n",
    "\n",
    "train = data.take(450)\n",
    "test = data.skip(450)"
   ]
  },
  {
   "cell_type": "code",
   "execution_count": 201,
   "metadata": {},
   "outputs": [
    {
     "name": "stdout",
     "output_type": "stream",
     "text": [
      "[[19  5 20 39 23  8  9 20  5 39 23  9 20  8 39  3 39  6  9 22  5 39 19 15\n",
      "  15 14  0  0  0  0  0  0  0  0  0  0  0  0  0  0]\n",
      " [12  1 25 39 23  8  9 20  5 39  9 14 39 12 39 15 14  5 39  1  7  1  9 14\n",
      "   0  0  0  0  0  0  0  0  0  0  0  0  0  0  0  0]]\n",
      "Length of frames: 2\n"
     ]
    }
   ],
   "source": [
    "frames, alignments = data.as_numpy_iterator().next()\n",
    "print(alignments)\n",
    "print(f\"Length of frames: {len(frames)}\")"
   ]
  },
  {
   "cell_type": "code",
   "execution_count": 202,
   "metadata": {},
   "outputs": [
    {
     "data": {
      "text/plain": [
       "array([[[[[ 1.5314748 ],\n",
       "          [ 1.3847177 ],\n",
       "          [ 1.5314748 ],\n",
       "          ...,\n",
       "          [ 0.2840391 ],\n",
       "          [ 0.3207284 ],\n",
       "          [ 0.3207284 ]],\n",
       "\n",
       "         [[ 1.5314748 ],\n",
       "          [ 1.3480284 ],\n",
       "          [ 1.6048534 ],\n",
       "          ...,\n",
       "          [ 0.2840391 ],\n",
       "          [ 0.3207284 ],\n",
       "          [ 0.3207284 ]],\n",
       "\n",
       "         [[ 1.421407  ],\n",
       "          [ 1.421407  ],\n",
       "          [ 1.421407  ],\n",
       "          ...,\n",
       "          [ 0.43079624],\n",
       "          [ 0.39410695],\n",
       "          [ 0.39410695]],\n",
       "\n",
       "         ...,\n",
       "\n",
       "         [[ 1.0178249 ],\n",
       "          [ 1.0178249 ],\n",
       "          [ 1.0178249 ],\n",
       "          ...,\n",
       "          [ 0.17397124],\n",
       "          [ 0.13728195],\n",
       "          [ 0.10059267]],\n",
       "\n",
       "         [[ 0.98113555],\n",
       "          [ 0.98113555],\n",
       "          [ 0.98113555],\n",
       "          ...,\n",
       "          [ 0.13728195],\n",
       "          [ 0.13728195],\n",
       "          [ 0.10059267]],\n",
       "\n",
       "         [[ 0.98113555],\n",
       "          [ 0.98113555],\n",
       "          [ 0.98113555],\n",
       "          ...,\n",
       "          [ 0.13728195],\n",
       "          [ 0.10059267],\n",
       "          [ 0.10059267]]],\n",
       "\n",
       "\n",
       "        [[[ 1.421407  ],\n",
       "          [ 1.4947855 ],\n",
       "          [ 1.3480284 ],\n",
       "          ...,\n",
       "          [ 0.2840391 ],\n",
       "          [ 0.3207284 ],\n",
       "          [ 0.3207284 ]],\n",
       "\n",
       "         [[ 1.3480284 ],\n",
       "          [ 1.3847177 ],\n",
       "          [ 1.3847177 ],\n",
       "          ...,\n",
       "          [ 0.3207284 ],\n",
       "          [ 0.35741767],\n",
       "          [ 0.35741767]],\n",
       "\n",
       "         [[ 1.3480284 ],\n",
       "          [ 1.3480284 ],\n",
       "          [ 1.3847177 ],\n",
       "          ...,\n",
       "          [ 0.35741767],\n",
       "          [ 0.3207284 ],\n",
       "          [ 0.3207284 ]],\n",
       "\n",
       "         ...,\n",
       "\n",
       "         [[ 1.0178249 ],\n",
       "          [ 1.0178249 ],\n",
       "          [ 1.0178249 ],\n",
       "          ...,\n",
       "          [ 0.13728195],\n",
       "          [ 0.13728195],\n",
       "          [ 0.13728195]],\n",
       "\n",
       "         [[ 0.98113555],\n",
       "          [ 0.98113555],\n",
       "          [ 0.98113555],\n",
       "          ...,\n",
       "          [ 0.10059267],\n",
       "          [ 0.10059267],\n",
       "          [ 0.06390338]],\n",
       "\n",
       "         [[ 0.98113555],\n",
       "          [ 0.98113555],\n",
       "          [ 0.98113555],\n",
       "          ...,\n",
       "          [ 0.10059267],\n",
       "          [ 0.10059267],\n",
       "          [ 0.06390338]]],\n",
       "\n",
       "\n",
       "        [[[ 1.4580963 ],\n",
       "          [ 1.5681641 ],\n",
       "          [ 1.3480284 ],\n",
       "          ...,\n",
       "          [ 0.2840391 ],\n",
       "          [ 0.3207284 ],\n",
       "          [ 0.3207284 ]],\n",
       "\n",
       "         [[ 1.421407  ],\n",
       "          [ 1.421407  ],\n",
       "          [ 1.421407  ],\n",
       "          ...,\n",
       "          [ 0.3207284 ],\n",
       "          [ 0.35741767],\n",
       "          [ 0.35741767]],\n",
       "\n",
       "         [[ 1.3847177 ],\n",
       "          [ 1.3847177 ],\n",
       "          [ 1.3847177 ],\n",
       "          ...,\n",
       "          [ 0.35741767],\n",
       "          [ 0.3207284 ],\n",
       "          [ 0.3207284 ]],\n",
       "\n",
       "         ...,\n",
       "\n",
       "         [[ 1.0178249 ],\n",
       "          [ 1.0178249 ],\n",
       "          [ 1.0178249 ],\n",
       "          ...,\n",
       "          [ 0.13728195],\n",
       "          [ 0.13728195],\n",
       "          [ 0.13728195]],\n",
       "\n",
       "         [[ 0.98113555],\n",
       "          [ 0.98113555],\n",
       "          [ 0.98113555],\n",
       "          ...,\n",
       "          [ 0.10059267],\n",
       "          [ 0.10059267],\n",
       "          [ 0.06390338]],\n",
       "\n",
       "         [[ 0.98113555],\n",
       "          [ 0.98113555],\n",
       "          [ 0.98113555],\n",
       "          ...,\n",
       "          [ 0.06390338],\n",
       "          [ 0.06390338],\n",
       "          [ 0.02721409]]],\n",
       "\n",
       "\n",
       "        ...,\n",
       "\n",
       "\n",
       "        [[[ 1.3847177 ],\n",
       "          [ 1.3847177 ],\n",
       "          [ 1.2012713 ],\n",
       "          ...,\n",
       "          [ 0.2840391 ],\n",
       "          [ 0.3207284 ],\n",
       "          [ 0.3207284 ]],\n",
       "\n",
       "         [[ 1.3847177 ],\n",
       "          [ 1.3113391 ],\n",
       "          [ 1.2379606 ],\n",
       "          ...,\n",
       "          [ 0.2840391 ],\n",
       "          [ 0.3207284 ],\n",
       "          [ 0.3207284 ]],\n",
       "\n",
       "         [[ 1.3847177 ],\n",
       "          [ 1.3480284 ],\n",
       "          [ 1.3113391 ],\n",
       "          ...,\n",
       "          [ 0.39410695],\n",
       "          [ 0.39410695],\n",
       "          [ 0.39410695]],\n",
       "\n",
       "         ...,\n",
       "\n",
       "         [[ 0.98113555],\n",
       "          [ 0.98113555],\n",
       "          [ 0.98113555],\n",
       "          ...,\n",
       "          [ 0.13728195],\n",
       "          [ 0.10059267],\n",
       "          [ 0.06390338]],\n",
       "\n",
       "         [[ 0.98113555],\n",
       "          [ 0.98113555],\n",
       "          [ 0.98113555],\n",
       "          ...,\n",
       "          [ 0.10059267],\n",
       "          [ 0.10059267],\n",
       "          [ 0.06390338]],\n",
       "\n",
       "         [[ 0.98113555],\n",
       "          [ 0.98113555],\n",
       "          [ 0.94444627],\n",
       "          ...,\n",
       "          [ 0.06390338],\n",
       "          [ 0.06390338],\n",
       "          [ 0.02721409]]],\n",
       "\n",
       "\n",
       "        [[[ 1.4580963 ],\n",
       "          [ 1.3480284 ],\n",
       "          [ 1.3480284 ],\n",
       "          ...,\n",
       "          [ 0.2840391 ],\n",
       "          [ 0.35741767],\n",
       "          [ 0.35741767]],\n",
       "\n",
       "         [[ 1.4580963 ],\n",
       "          [ 1.3480284 ],\n",
       "          [ 1.2012713 ],\n",
       "          ...,\n",
       "          [ 0.2840391 ],\n",
       "          [ 0.35741767],\n",
       "          [ 0.35741767]],\n",
       "\n",
       "         [[ 1.421407  ],\n",
       "          [ 1.3480284 ],\n",
       "          [ 1.3113391 ],\n",
       "          ...,\n",
       "          [ 0.3207284 ],\n",
       "          [ 0.3207284 ],\n",
       "          [ 0.3207284 ]],\n",
       "\n",
       "         ...,\n",
       "\n",
       "         [[ 0.98113555],\n",
       "          [ 0.98113555],\n",
       "          [ 0.98113555],\n",
       "          ...,\n",
       "          [ 0.13728195],\n",
       "          [ 0.10059267],\n",
       "          [ 0.06390338]],\n",
       "\n",
       "         [[ 0.98113555],\n",
       "          [ 0.98113555],\n",
       "          [ 0.98113555],\n",
       "          ...,\n",
       "          [ 0.10059267],\n",
       "          [ 0.10059267],\n",
       "          [ 0.06390338]],\n",
       "\n",
       "         [[ 0.98113555],\n",
       "          [ 0.98113555],\n",
       "          [ 0.94444627],\n",
       "          ...,\n",
       "          [ 0.06390338],\n",
       "          [ 0.06390338],\n",
       "          [ 0.02721409]]],\n",
       "\n",
       "\n",
       "        [[[ 1.3847177 ],\n",
       "          [ 1.3113391 ],\n",
       "          [ 1.3480284 ],\n",
       "          ...,\n",
       "          [ 0.2840391 ],\n",
       "          [ 0.3207284 ],\n",
       "          [ 0.3207284 ]],\n",
       "\n",
       "         [[ 1.4580963 ],\n",
       "          [ 1.3480284 ],\n",
       "          [ 1.2012713 ],\n",
       "          ...,\n",
       "          [ 0.2840391 ],\n",
       "          [ 0.3207284 ],\n",
       "          [ 0.3207284 ]],\n",
       "\n",
       "         [[ 1.4580963 ],\n",
       "          [ 1.3480284 ],\n",
       "          [ 1.3113391 ],\n",
       "          ...,\n",
       "          [ 0.3207284 ],\n",
       "          [ 0.3207284 ],\n",
       "          [ 0.3207284 ]],\n",
       "\n",
       "         ...,\n",
       "\n",
       "         [[ 1.0545142 ],\n",
       "          [ 1.0545142 ],\n",
       "          [ 1.0545142 ],\n",
       "          ...,\n",
       "          [ 0.13728195],\n",
       "          [ 0.10059267],\n",
       "          [ 0.06390338]],\n",
       "\n",
       "         [[ 1.0178249 ],\n",
       "          [ 1.0178249 ],\n",
       "          [ 1.0178249 ],\n",
       "          ...,\n",
       "          [ 0.10059267],\n",
       "          [ 0.10059267],\n",
       "          [ 0.06390338]],\n",
       "\n",
       "         [[ 1.0178249 ],\n",
       "          [ 1.0178249 ],\n",
       "          [ 0.98113555],\n",
       "          ...,\n",
       "          [ 0.06390338],\n",
       "          [ 0.06390338],\n",
       "          [ 0.02721409]]]],\n",
       "\n",
       "\n",
       "\n",
       "       [[[[ 1.4152225 ],\n",
       "          [ 1.4152225 ],\n",
       "          [ 1.4583881 ],\n",
       "          ...,\n",
       "          [-0.00924291],\n",
       "          [-0.00924291],\n",
       "          [-0.00924291]],\n",
       "\n",
       "         [[ 1.4152225 ],\n",
       "          [ 1.4152225 ],\n",
       "          [ 1.4583881 ],\n",
       "          ...,\n",
       "          [-0.00924291],\n",
       "          [-0.00924291],\n",
       "          [-0.00924291]],\n",
       "\n",
       "         [[ 1.4583881 ],\n",
       "          [ 1.4583881 ],\n",
       "          [ 1.4152225 ],\n",
       "          ...,\n",
       "          [-0.09557414],\n",
       "          [-0.09557414],\n",
       "          [-0.09557414]],\n",
       "\n",
       "         ...,\n",
       "\n",
       "         [[ 0.9835663 ],\n",
       "          [ 0.9835663 ],\n",
       "          [ 0.9404007 ],\n",
       "          ...,\n",
       "          [-0.31140223],\n",
       "          [-0.31140223],\n",
       "          [-0.31140223]],\n",
       "\n",
       "         [[ 0.9835663 ],\n",
       "          [ 0.9835663 ],\n",
       "          [ 0.9404007 ],\n",
       "          ...,\n",
       "          [-0.35456786],\n",
       "          [-0.35456786],\n",
       "          [-0.35456786]],\n",
       "\n",
       "         [[ 0.9835663 ],\n",
       "          [ 0.9835663 ],\n",
       "          [ 0.9404007 ],\n",
       "          ...,\n",
       "          [-0.35456786],\n",
       "          [-0.35456786],\n",
       "          [-0.35456786]]],\n",
       "\n",
       "\n",
       "        [[[ 1.3720568 ],\n",
       "          [ 1.3720568 ],\n",
       "          [ 1.4152225 ],\n",
       "          ...,\n",
       "          [-0.05240852],\n",
       "          [-0.05240852],\n",
       "          [-0.05240852]],\n",
       "\n",
       "         [[ 1.3720568 ],\n",
       "          [ 1.3720568 ],\n",
       "          [ 1.4152225 ],\n",
       "          ...,\n",
       "          [-0.05240852],\n",
       "          [-0.05240852],\n",
       "          [-0.05240852]],\n",
       "\n",
       "         [[ 1.4152225 ],\n",
       "          [ 1.4152225 ],\n",
       "          [ 1.4152225 ],\n",
       "          ...,\n",
       "          [-0.09557414],\n",
       "          [-0.09557414],\n",
       "          [-0.09557414]],\n",
       "\n",
       "         ...,\n",
       "\n",
       "         [[ 0.9404007 ],\n",
       "          [ 0.9404007 ],\n",
       "          [ 0.9404007 ],\n",
       "          ...,\n",
       "          [-0.35456786],\n",
       "          [-0.35456786],\n",
       "          [-0.35456786]],\n",
       "\n",
       "         [[ 0.9404007 ],\n",
       "          [ 0.9404007 ],\n",
       "          [ 0.9404007 ],\n",
       "          ...,\n",
       "          [-0.35456786],\n",
       "          [-0.35456786],\n",
       "          [-0.35456786]],\n",
       "\n",
       "         [[ 0.9404007 ],\n",
       "          [ 0.9404007 ],\n",
       "          [ 0.9404007 ],\n",
       "          ...,\n",
       "          [-0.35456786],\n",
       "          [-0.35456786],\n",
       "          [-0.35456786]]],\n",
       "\n",
       "\n",
       "        [[[ 1.3720568 ],\n",
       "          [ 1.3720568 ],\n",
       "          [ 1.4583881 ],\n",
       "          ...,\n",
       "          [-0.00924291],\n",
       "          [-0.05240852],\n",
       "          [-0.05240852]],\n",
       "\n",
       "         [[ 1.3720568 ],\n",
       "          [ 1.3720568 ],\n",
       "          [ 1.4583881 ],\n",
       "          ...,\n",
       "          [-0.00924291],\n",
       "          [-0.05240852],\n",
       "          [-0.05240852]],\n",
       "\n",
       "         [[ 1.3720568 ],\n",
       "          [ 1.3720568 ],\n",
       "          [ 1.4152225 ],\n",
       "          ...,\n",
       "          [-0.09557414],\n",
       "          [-0.09557414],\n",
       "          [-0.09557414]],\n",
       "\n",
       "         ...,\n",
       "\n",
       "         [[ 0.9835663 ],\n",
       "          [ 0.9835663 ],\n",
       "          [ 0.9404007 ],\n",
       "          ...,\n",
       "          [-0.35456786],\n",
       "          [-0.35456786],\n",
       "          [-0.35456786]],\n",
       "\n",
       "         [[ 0.9835663 ],\n",
       "          [ 0.9835663 ],\n",
       "          [ 0.9404007 ],\n",
       "          ...,\n",
       "          [-0.35456786],\n",
       "          [-0.35456786],\n",
       "          [-0.35456786]],\n",
       "\n",
       "         [[ 0.9835663 ],\n",
       "          [ 0.9835663 ],\n",
       "          [ 0.9404007 ],\n",
       "          ...,\n",
       "          [-0.35456786],\n",
       "          [-0.35456786],\n",
       "          [-0.35456786]]],\n",
       "\n",
       "\n",
       "        ...,\n",
       "\n",
       "\n",
       "        [[[ 1.4583881 ],\n",
       "          [ 1.4583881 ],\n",
       "          [ 1.3720568 ],\n",
       "          ...,\n",
       "          [ 0.03392271],\n",
       "          [ 0.03392271],\n",
       "          [ 0.03392271]],\n",
       "\n",
       "         [[ 1.4152225 ],\n",
       "          [ 1.4152225 ],\n",
       "          [ 1.3288913 ],\n",
       "          ...,\n",
       "          [-0.00924291],\n",
       "          [ 0.03392271],\n",
       "          [ 0.03392271]],\n",
       "\n",
       "         [[ 1.3720568 ],\n",
       "          [ 1.3720568 ],\n",
       "          [ 1.3720568 ],\n",
       "          ...,\n",
       "          [-0.05240852],\n",
       "          [-0.05240852],\n",
       "          [-0.05240852]],\n",
       "\n",
       "         ...,\n",
       "\n",
       "         [[ 0.9835663 ],\n",
       "          [ 0.9835663 ],\n",
       "          [ 0.9835663 ],\n",
       "          ...,\n",
       "          [-0.35456786],\n",
       "          [-0.39773348],\n",
       "          [-0.35456786]],\n",
       "\n",
       "         [[ 0.9835663 ],\n",
       "          [ 0.9835663 ],\n",
       "          [ 0.9835663 ],\n",
       "          ...,\n",
       "          [-0.35456786],\n",
       "          [-0.39773348],\n",
       "          [-0.39773348]],\n",
       "\n",
       "         [[ 0.9835663 ],\n",
       "          [ 0.9835663 ],\n",
       "          [ 0.9404007 ],\n",
       "          ...,\n",
       "          [-0.39773348],\n",
       "          [-0.44089907],\n",
       "          [-0.39773348]]],\n",
       "\n",
       "\n",
       "        [[[ 1.3720568 ],\n",
       "          [ 1.3720568 ],\n",
       "          [ 1.3720568 ],\n",
       "          ...,\n",
       "          [ 0.03392271],\n",
       "          [-0.00924291],\n",
       "          [-0.00924291]],\n",
       "\n",
       "         [[ 1.3720568 ],\n",
       "          [ 1.3720568 ],\n",
       "          [ 1.3720568 ],\n",
       "          ...,\n",
       "          [-0.00924291],\n",
       "          [-0.00924291],\n",
       "          [-0.00924291]],\n",
       "\n",
       "         [[ 1.3720568 ],\n",
       "          [ 1.3720568 ],\n",
       "          [ 1.3720568 ],\n",
       "          ...,\n",
       "          [-0.05240852],\n",
       "          [-0.05240852],\n",
       "          [-0.05240852]],\n",
       "\n",
       "         ...,\n",
       "\n",
       "         [[ 0.9835663 ],\n",
       "          [ 0.9835663 ],\n",
       "          [ 0.9835663 ],\n",
       "          ...,\n",
       "          [-0.31140223],\n",
       "          [-0.35456786],\n",
       "          [-0.35456786]],\n",
       "\n",
       "         [[ 0.9835663 ],\n",
       "          [ 0.9835663 ],\n",
       "          [ 0.9835663 ],\n",
       "          ...,\n",
       "          [-0.35456786],\n",
       "          [-0.35456786],\n",
       "          [-0.39773348]],\n",
       "\n",
       "         [[ 0.9835663 ],\n",
       "          [ 0.9835663 ],\n",
       "          [ 0.9404007 ],\n",
       "          ...,\n",
       "          [-0.35456786],\n",
       "          [-0.39773348],\n",
       "          [-0.39773348]]],\n",
       "\n",
       "\n",
       "        [[[ 1.3720568 ],\n",
       "          [ 1.3720568 ],\n",
       "          [ 1.3720568 ],\n",
       "          ...,\n",
       "          [-0.05240852],\n",
       "          [-0.05240852],\n",
       "          [-0.05240852]],\n",
       "\n",
       "         [[ 1.3720568 ],\n",
       "          [ 1.3720568 ],\n",
       "          [ 1.3720568 ],\n",
       "          ...,\n",
       "          [-0.09557414],\n",
       "          [-0.05240852],\n",
       "          [-0.05240852]],\n",
       "\n",
       "         [[ 1.4152225 ],\n",
       "          [ 1.4152225 ],\n",
       "          [ 1.3720568 ],\n",
       "          ...,\n",
       "          [-0.05240852],\n",
       "          [-0.05240852],\n",
       "          [-0.05240852]],\n",
       "\n",
       "         ...,\n",
       "\n",
       "         [[ 1.026732  ],\n",
       "          [ 0.9835663 ],\n",
       "          [ 0.9835663 ],\n",
       "          ...,\n",
       "          [-0.31140223],\n",
       "          [-0.35456786],\n",
       "          [-0.35456786]],\n",
       "\n",
       "         [[ 0.9835663 ],\n",
       "          [ 0.9835663 ],\n",
       "          [ 0.9404007 ],\n",
       "          ...,\n",
       "          [-0.35456786],\n",
       "          [-0.35456786],\n",
       "          [-0.39773348]],\n",
       "\n",
       "         [[ 0.9404007 ],\n",
       "          [ 0.9404007 ],\n",
       "          [ 0.9404007 ],\n",
       "          ...,\n",
       "          [-0.35456786],\n",
       "          [-0.39773348],\n",
       "          [-0.39773348]]]]], dtype=float32)"
      ]
     },
     "execution_count": 202,
     "metadata": {},
     "output_type": "execute_result"
    }
   ],
   "source": [
    "weird = data.as_numpy_iterator()\n",
    "val = weird.next(); val[0]"
   ]
  },
  {
   "cell_type": "code",
   "execution_count": 203,
   "metadata": {},
   "outputs": [],
   "source": [
    "import numpy as np\n",
    "\n",
    "array = val[0][0]\n",
    "\n",
    "# Convert the array to uint8 if it's not already\n",
    "if array.dtype != np.uint8:\n",
    "    array = (array * 255).astype(np.uint8)\n",
    "\n",
    "if array.shape[-1] == 1: \n",
    "    array = np.squeeze(array, axis=-1)  # Remove the last dimension\n",
    "\n",
    "# Save the gif\n",
    "imageio.mimsave('test.gif', array)"
   ]
  },
  {
   "cell_type": "code",
   "execution_count": 204,
   "metadata": {},
   "outputs": [
    {
     "data": {
      "text/plain": [
       "<matplotlib.image.AxesImage at 0x18b5cc674c0>"
      ]
     },
     "execution_count": 204,
     "metadata": {},
     "output_type": "execute_result"
    },
    {
     "data": {
      "image/png": "[encoded data removed]",
      "text/plain": [
       "<Figure size 640x480 with 1 Axes>"
      ]
     },
     "metadata": {},
     "output_type": "display_data"
    }
   ],
   "source": [
    "# 0: videos, 0: 1st batch vid, 0: 1st frame\n",
    "plt.imshow(val[0][0][0])"
   ]
  },
  {
   "cell_type": "code",
   "execution_count": 205,
   "metadata": {},
   "outputs": [
    {
     "data": {
      "text/plain": [
       "<tf.Tensor: shape=(), dtype=string, numpy=b'set red in n five soon'>"
      ]
     },
     "execution_count": 205,
     "metadata": {},
     "output_type": "execute_result"
    }
   ],
   "source": [
    "tf.strings.reduce_join([num_to_char(word) for word in val[1][0]])"
   ]
  },
  {
   "cell_type": "markdown",
   "metadata": {},
   "source": [
    "## DNN!"
   ]
  },
  {
   "cell_type": "code",
   "execution_count": 206,
   "metadata": {},
   "outputs": [],
   "source": [
    "# using CTC loss function \n",
    "# since many frames have same data\n",
    "\n",
    "from tensorflow.keras.models import Sequential \n",
    "from tensorflow.keras.layers import Conv3D, LSTM, Dense, Dropout, Bidirectional, MaxPool3D, Activation, Reshape, SpatialDropout3D, BatchNormalization, TimeDistributed, Flatten\n",
    "from tensorflow.keras.optimizers import Adam\n",
    "from tensorflow.keras.callbacks import ModelCheckpoint, LearningRateScheduler"
   ]
  },
  {
   "cell_type": "code",
   "execution_count": 207,
   "metadata": {},
   "outputs": [
    {
     "data": {
      "text/plain": [
       "(75, 46, 140)"
      ]
     },
     "execution_count": 207,
     "metadata": {},
     "output_type": "execute_result"
    }
   ],
   "source": [
    "input_shape = data.as_numpy_iterator().next()[0][0].shape\n",
    "input_shape[:3]"
   ]
  },
  {
   "cell_type": "code",
   "execution_count": 208,
   "metadata": {},
   "outputs": [],
   "source": [
    "model = Sequential()\n",
    "model.add(Conv3D(128, 3, input_shape=(75,46,140,1), padding='same'))\n",
    "model.add(Activation('relu'))\n",
    "model.add(MaxPool3D((1,2,2)))\n",
    "\n",
    "model.add(Conv3D(256, 3, padding='same'))\n",
    "model.add(Activation('relu'))\n",
    "model.add(MaxPool3D((1,2,2)))\n",
    "\n",
    "model.add(Conv3D(75, 3, padding='same'))\n",
    "model.add(Activation('relu'))\n",
    "model.add(MaxPool3D((1,2,2)))\n",
    "\n",
    "model.add(TimeDistributed(Flatten()))\n",
    "\n",
    "model.add(Bidirectional(LSTM(128, kernel_initializer='Orthogonal', return_sequences=True)))\n",
    "model.add(Dropout(.5))\n",
    "\n",
    "model.add(Bidirectional(LSTM(128, kernel_initializer='Orthogonal', return_sequences=True)))\n",
    "model.add(Dropout(.5))\n",
    "#its going to be 75, 41 output since 75 frames and 41 chars\n",
    "model.add(Dense(char_to_num.vocabulary_size()+1, kernel_initializer='he_normal', activation='softmax'))"
   ]
  },
  {
   "cell_type": "code",
   "execution_count": 209,
   "metadata": {},
   "outputs": [
    {
     "name": "stdout",
     "output_type": "stream",
     "text": [
      "Model: \"sequential_4\"\n",
      "_________________________________________________________________\n",
      " Layer (type)                Output Shape              Param #   \n",
      "=================================================================\n",
      " conv3d_12 (Conv3D)          (None, 75, 46, 140, 128   3584      \n",
      "                             )                                   \n",
      "                                                                 \n",
      " activation_12 (Activation)  (None, 75, 46, 140, 128   0         \n",
      "                             )                                   \n",
      "                                                                 \n",
      " max_pooling3d_12 (MaxPooli  (None, 75, 23, 70, 128)   0         \n",
      " ng3D)                                                           \n",
      "                                                                 \n",
      " conv3d_13 (Conv3D)          (None, 75, 23, 70, 256)   884992    \n",
      "                                                                 \n",
      " activation_13 (Activation)  (None, 75, 23, 70, 256)   0         \n",
      "                                                                 \n",
      " max_pooling3d_13 (MaxPooli  (None, 75, 11, 35, 256)   0         \n",
      " ng3D)                                                           \n",
      "                                                                 \n",
      " conv3d_14 (Conv3D)          (None, 75, 11, 35, 75)    518475    \n",
      "                                                                 \n",
      " activation_14 (Activation)  (None, 75, 11, 35, 75)    0         \n",
      "                                                                 \n",
      " max_pooling3d_14 (MaxPooli  (None, 75, 5, 17, 75)     0         \n",
      " ng3D)                                                           \n",
      "                                                                 \n",
      " time_distributed_4 (TimeDi  (None, 75, 6375)          0         \n",
      " stributed)                                                      \n",
      "                                                                 \n",
      " bidirectional_8 (Bidirecti  (None, 75, 256)           6660096   \n",
      " onal)                                                           \n",
      "                                                                 \n",
      " dropout_8 (Dropout)         (None, 75, 256)           0         \n",
      "                                                                 \n",
      " bidirectional_9 (Bidirecti  (None, 75, 256)           394240    \n",
      " onal)                                                           \n",
      "                                                                 \n",
      " dropout_9 (Dropout)         (None, 75, 256)           0         \n",
      "                                                                 \n",
      " dense_4 (Dense)             (None, 75, 41)            10537     \n",
      "                                                                 \n",
      "=================================================================\n",
      "Total params: 8471924 (32.32 MB)\n",
      "Trainable params: 8471924 (32.32 MB)\n",
      "Non-trainable params: 0 (0.00 Byte)\n",
      "_________________________________________________________________\n"
     ]
    }
   ],
   "source": [
    "model.summary()"
   ]
  },
  {
   "cell_type": "code",
   "execution_count": 210,
   "metadata": {},
   "outputs": [
    {
     "name": "stdout",
     "output_type": "stream",
     "text": [
      "1/1 [==============================] - 4s 4s/step\n"
     ]
    }
   ],
   "source": [
    "yhat = model.predict(val[0])"
   ]
  },
  {
   "cell_type": "code",
   "execution_count": 211,
   "metadata": {},
   "outputs": [
    {
     "data": {
      "text/plain": [
       "<tf.Tensor: shape=(), dtype=string, numpy=b'xxxxxxxxxxxxxxxxxxxxxxxxxxxxxxxxxxxxxxxxxxxxxxxxxxxxxxxxxxxxxxxxxxxxxxxppyy'>"
      ]
     },
     "execution_count": 211,
     "metadata": {},
     "output_type": "execute_result"
    }
   ],
   "source": [
    "tf.strings.reduce_join([num_to_char(x) for x in tf.argmax(yhat[0],axis=1)])"
   ]
  },
  {
   "cell_type": "code",
   "execution_count": 212,
   "metadata": {},
   "outputs": [
    {
     "name": "stdout",
     "output_type": "stream",
     "text": [
      "Model Input Shape: (None, 75, 46, 140, 1)\n",
      "Model Output Shape: (None, 75, 41)\n"
     ]
    }
   ],
   "source": [
    "print(f\"Model Input Shape: {model.input_shape}\")\n",
    "print(f\"Model Output Shape: {model.output_shape}\")"
   ]
  },
  {
   "cell_type": "markdown",
   "metadata": {},
   "source": [
    "## Setup Training Options and Train"
   ]
  },
  {
   "cell_type": "code",
   "execution_count": 213,
   "metadata": {},
   "outputs": [],
   "source": [
    "def scheduler(epoch, lr):\n",
    "    if epoch < 30:\n",
    "        return lr\n",
    "    else:\n",
    "        return lr * tf.math.exp(-0.1)"
   ]
  },
  {
   "cell_type": "code",
   "execution_count": 214,
   "metadata": {},
   "outputs": [],
   "source": [
    "#from the ASR paper \n",
    "def CTCLoss(y_true, y_pred):\n",
    "    batch_len = tf.cast(tf.shape(y_true)[0], dtype=\"int64\")\n",
    "    input_length = tf.cast(tf.shape(y_pred)[1], dtype=\"int64\")\n",
    "    label_length = tf.cast(tf.shape(y_true)[1], dtype=\"int64\")\n",
    "\n",
    "    input_length = input_length * tf.ones(shape=(batch_len, 1), dtype=\"int64\")\n",
    "    label_length = label_length * tf.ones(shape=(batch_len, 1), dtype=\"int64\")\n",
    "\n",
    "    loss = tf.keras.backend.ctc_batch_cost(y_true, y_pred, input_length, label_length)\n",
    "    return loss"
   ]
  },
  {
   "cell_type": "code",
   "execution_count": 215,
   "metadata": {},
   "outputs": [],
   "source": [
    "class ProduceExample(tf.keras.callbacks.Callback): \n",
    "    def __init__(self, dataset) -> None: \n",
    "        self.dataset = dataset.as_numpy_iterator()\n",
    "    \n",
    "    def on_epoch_end(self, epoch, logs=None) -> None:\n",
    "        data = self.dataset.next()\n",
    "        yhat = self.model.predict(data[0])\n",
    "        decoded = tf.keras.backend.ctc_decode(yhat, [75,75], greedy=False)[0][0].numpy()\n",
    "        for x in range(len(yhat)):           \n",
    "            print('Original:', tf.strings.reduce_join(num_to_char(data[1][x])).numpy().decode('utf-8'))\n",
    "            print('Prediction:', tf.strings.reduce_join(num_to_char(decoded[x])).numpy().decode('utf-8'))\n",
    "            print('~'*100)"
   ]
  },
  {
   "cell_type": "code",
   "execution_count": 216,
   "metadata": {},
   "outputs": [],
   "source": [
    "model.compile(optimizer=Adam(learning_rate=0.001), loss=CTCLoss)\n",
    "checkpoint_callback = ModelCheckpoint(os.path.join('models','checkpoint'), monitor='loss', save_weights_only=True) \n",
    "schedule_callback = LearningRateScheduler(scheduler)\n",
    "example_callback = ProduceExample(test)"
   ]
  },
  {
   "cell_type": "code",
   "execution_count": 166,
   "metadata": {},
   "outputs": [
    {
     "name": "stdout",
     "output_type": "stream",
     "text": [
      "Epoch 1/100\n",
      "WARNING:tensorflow:From c:\\Users\\Ahmad\\AppData\\Local\\Programs\\Python\\Python39\\lib\\site-packages\\keras\\src\\backend.py:7169: The name tf.nn.ctc_loss is deprecated. Please use tf.compat.v1.nn.ctc_loss instead.\n",
      "\n",
      "  1/500 [..............................] - ETA: 2:36:51 - loss: 228.8118"
     ]
    },
    {
     "ename": "KeyboardInterrupt",
     "evalue": "",
     "output_type": "error",
     "traceback": [
      "\u001b[1;31m---------------------------------------------------------------------------\u001b[0m",
      "\u001b[1;31mKeyboardInterrupt\u001b[0m                         Traceback (most recent call last)",
      "Cell \u001b[1;32mIn[166], line 1\u001b[0m\n\u001b[1;32m----> 1\u001b[0m \u001b[43mmodel\u001b[49m\u001b[38;5;241;43m.\u001b[39;49m\u001b[43mfit\u001b[49m\u001b[43m(\u001b[49m\u001b[43mdata\u001b[49m\u001b[43m,\u001b[49m\u001b[43m \u001b[49m\u001b[43mepochs\u001b[49m\u001b[38;5;241;43m=\u001b[39;49m\u001b[38;5;241;43m100\u001b[39;49m\u001b[43m,\u001b[49m\u001b[43m \u001b[49m\u001b[43mcallbacks\u001b[49m\u001b[38;5;241;43m=\u001b[39;49m\u001b[43m[\u001b[49m\u001b[43mcheckpoint_callback\u001b[49m\u001b[43m,\u001b[49m\u001b[43m \u001b[49m\u001b[43mschedule_callback\u001b[49m\u001b[43m,\u001b[49m\u001b[43m \u001b[49m\u001b[43mexample_callback\u001b[49m\u001b[43m]\u001b[49m\u001b[43m)\u001b[49m\n",
      "File \u001b[1;32mc:\\Users\\Ahmad\\AppData\\Local\\Programs\\Python\\Python39\\lib\\site-packages\\keras\\src\\utils\\traceback_utils.py:65\u001b[0m, in \u001b[0;36mfilter_traceback.<locals>.error_handler\u001b[1;34m(*args, **kwargs)\u001b[0m\n\u001b[0;32m     63\u001b[0m filtered_tb \u001b[38;5;241m=\u001b[39m \u001b[38;5;28;01mNone\u001b[39;00m\n\u001b[0;32m     64\u001b[0m \u001b[38;5;28;01mtry\u001b[39;00m:\n\u001b[1;32m---> 65\u001b[0m     \u001b[38;5;28;01mreturn\u001b[39;00m fn(\u001b[38;5;241m*\u001b[39margs, \u001b[38;5;241m*\u001b[39m\u001b[38;5;241m*\u001b[39mkwargs)\n\u001b[0;32m     66\u001b[0m \u001b[38;5;28;01mexcept\u001b[39;00m \u001b[38;5;167;01mException\u001b[39;00m \u001b[38;5;28;01mas\u001b[39;00m e:\n\u001b[0;32m     67\u001b[0m     filtered_tb \u001b[38;5;241m=\u001b[39m _process_traceback_frames(e\u001b[38;5;241m.\u001b[39m__traceback__)\n",
      "File \u001b[1;32mc:\\Users\\Ahmad\\AppData\\Local\\Programs\\Python\\Python39\\lib\\site-packages\\keras\\src\\engine\\training.py:1807\u001b[0m, in \u001b[0;36mModel.fit\u001b[1;34m(self, x, y, batch_size, epochs, verbose, callbacks, validation_split, validation_data, shuffle, class_weight, sample_weight, initial_epoch, steps_per_epoch, validation_steps, validation_batch_size, validation_freq, max_queue_size, workers, use_multiprocessing)\u001b[0m\n\u001b[0;32m   1799\u001b[0m \u001b[38;5;28;01mwith\u001b[39;00m tf\u001b[38;5;241m.\u001b[39mprofiler\u001b[38;5;241m.\u001b[39mexperimental\u001b[38;5;241m.\u001b[39mTrace(\n\u001b[0;32m   1800\u001b[0m     \u001b[38;5;124m\"\u001b[39m\u001b[38;5;124mtrain\u001b[39m\u001b[38;5;124m\"\u001b[39m,\n\u001b[0;32m   1801\u001b[0m     epoch_num\u001b[38;5;241m=\u001b[39mepoch,\n\u001b[1;32m   (...)\u001b[0m\n\u001b[0;32m   1804\u001b[0m     _r\u001b[38;5;241m=\u001b[39m\u001b[38;5;241m1\u001b[39m,\n\u001b[0;32m   1805\u001b[0m ):\n\u001b[0;32m   1806\u001b[0m     callbacks\u001b[38;5;241m.\u001b[39mon_train_batch_begin(step)\n\u001b[1;32m-> 1807\u001b[0m     tmp_logs \u001b[38;5;241m=\u001b[39m \u001b[38;5;28;43mself\u001b[39;49m\u001b[38;5;241;43m.\u001b[39;49m\u001b[43mtrain_function\u001b[49m\u001b[43m(\u001b[49m\u001b[43miterator\u001b[49m\u001b[43m)\u001b[49m\n\u001b[0;32m   1808\u001b[0m     \u001b[38;5;28;01mif\u001b[39;00m data_handler\u001b[38;5;241m.\u001b[39mshould_sync:\n\u001b[0;32m   1809\u001b[0m         context\u001b[38;5;241m.\u001b[39masync_wait()\n",
      "File \u001b[1;32mc:\\Users\\Ahmad\\AppData\\Local\\Programs\\Python\\Python39\\lib\\site-packages\\tensorflow\\python\\util\\traceback_utils.py:150\u001b[0m, in \u001b[0;36mfilter_traceback.<locals>.error_handler\u001b[1;34m(*args, **kwargs)\u001b[0m\n\u001b[0;32m    148\u001b[0m filtered_tb \u001b[38;5;241m=\u001b[39m \u001b[38;5;28;01mNone\u001b[39;00m\n\u001b[0;32m    149\u001b[0m \u001b[38;5;28;01mtry\u001b[39;00m:\n\u001b[1;32m--> 150\u001b[0m   \u001b[38;5;28;01mreturn\u001b[39;00m fn(\u001b[38;5;241m*\u001b[39margs, \u001b[38;5;241m*\u001b[39m\u001b[38;5;241m*\u001b[39mkwargs)\n\u001b[0;32m    151\u001b[0m \u001b[38;5;28;01mexcept\u001b[39;00m \u001b[38;5;167;01mException\u001b[39;00m \u001b[38;5;28;01mas\u001b[39;00m e:\n\u001b[0;32m    152\u001b[0m   filtered_tb \u001b[38;5;241m=\u001b[39m _process_traceback_frames(e\u001b[38;5;241m.\u001b[39m__traceback__)\n",
      "File \u001b[1;32mc:\\Users\\Ahmad\\AppData\\Local\\Programs\\Python\\Python39\\lib\\site-packages\\tensorflow\\python\\eager\\polymorphic_function\\polymorphic_function.py:832\u001b[0m, in \u001b[0;36mFunction.__call__\u001b[1;34m(self, *args, **kwds)\u001b[0m\n\u001b[0;32m    829\u001b[0m compiler \u001b[38;5;241m=\u001b[39m \u001b[38;5;124m\"\u001b[39m\u001b[38;5;124mxla\u001b[39m\u001b[38;5;124m\"\u001b[39m \u001b[38;5;28;01mif\u001b[39;00m \u001b[38;5;28mself\u001b[39m\u001b[38;5;241m.\u001b[39m_jit_compile \u001b[38;5;28;01melse\u001b[39;00m \u001b[38;5;124m\"\u001b[39m\u001b[38;5;124mnonXla\u001b[39m\u001b[38;5;124m\"\u001b[39m\n\u001b[0;32m    831\u001b[0m \u001b[38;5;28;01mwith\u001b[39;00m OptionalXlaContext(\u001b[38;5;28mself\u001b[39m\u001b[38;5;241m.\u001b[39m_jit_compile):\n\u001b[1;32m--> 832\u001b[0m   result \u001b[38;5;241m=\u001b[39m \u001b[38;5;28mself\u001b[39m\u001b[38;5;241m.\u001b[39m_call(\u001b[38;5;241m*\u001b[39margs, \u001b[38;5;241m*\u001b[39m\u001b[38;5;241m*\u001b[39mkwds)\n\u001b[0;32m    834\u001b[0m new_tracing_count \u001b[38;5;241m=\u001b[39m \u001b[38;5;28mself\u001b[39m\u001b[38;5;241m.\u001b[39mexperimental_get_tracing_count()\n\u001b[0;32m    835\u001b[0m without_tracing \u001b[38;5;241m=\u001b[39m (tracing_count \u001b[38;5;241m==\u001b[39m new_tracing_count)\n",
      "File \u001b[1;32mc:\\Users\\Ahmad\\AppData\\Local\\Programs\\Python\\Python39\\lib\\site-packages\\tensorflow\\python\\eager\\polymorphic_function\\polymorphic_function.py:868\u001b[0m, in \u001b[0;36mFunction._call\u001b[1;34m(self, *args, **kwds)\u001b[0m\n\u001b[0;32m    865\u001b[0m   \u001b[38;5;28mself\u001b[39m\u001b[38;5;241m.\u001b[39m_lock\u001b[38;5;241m.\u001b[39mrelease()\n\u001b[0;32m    866\u001b[0m   \u001b[38;5;66;03m# In this case we have created variables on the first call, so we run the\u001b[39;00m\n\u001b[0;32m    867\u001b[0m   \u001b[38;5;66;03m# defunned version which is guaranteed to never create variables.\u001b[39;00m\n\u001b[1;32m--> 868\u001b[0m   \u001b[38;5;28;01mreturn\u001b[39;00m \u001b[43mtracing_compilation\u001b[49m\u001b[38;5;241;43m.\u001b[39;49m\u001b[43mcall_function\u001b[49m\u001b[43m(\u001b[49m\n\u001b[0;32m    869\u001b[0m \u001b[43m      \u001b[49m\u001b[43margs\u001b[49m\u001b[43m,\u001b[49m\u001b[43m \u001b[49m\u001b[43mkwds\u001b[49m\u001b[43m,\u001b[49m\u001b[43m \u001b[49m\u001b[38;5;28;43mself\u001b[39;49m\u001b[38;5;241;43m.\u001b[39;49m\u001b[43m_no_variable_creation_config\u001b[49m\n\u001b[0;32m    870\u001b[0m \u001b[43m  \u001b[49m\u001b[43m)\u001b[49m\n\u001b[0;32m    871\u001b[0m \u001b[38;5;28;01melif\u001b[39;00m \u001b[38;5;28mself\u001b[39m\u001b[38;5;241m.\u001b[39m_variable_creation_config \u001b[38;5;129;01mis\u001b[39;00m \u001b[38;5;129;01mnot\u001b[39;00m \u001b[38;5;28;01mNone\u001b[39;00m:\n\u001b[0;32m    872\u001b[0m   \u001b[38;5;66;03m# Release the lock early so that multiple threads can perform the call\u001b[39;00m\n\u001b[0;32m    873\u001b[0m   \u001b[38;5;66;03m# in parallel.\u001b[39;00m\n\u001b[0;32m    874\u001b[0m   \u001b[38;5;28mself\u001b[39m\u001b[38;5;241m.\u001b[39m_lock\u001b[38;5;241m.\u001b[39mrelease()\n",
      "File \u001b[1;32mc:\\Users\\Ahmad\\AppData\\Local\\Programs\\Python\\Python39\\lib\\site-packages\\tensorflow\\python\\eager\\polymorphic_function\\tracing_compilation.py:139\u001b[0m, in \u001b[0;36mcall_function\u001b[1;34m(args, kwargs, tracing_options)\u001b[0m\n\u001b[0;32m    137\u001b[0m bound_args \u001b[38;5;241m=\u001b[39m function\u001b[38;5;241m.\u001b[39mfunction_type\u001b[38;5;241m.\u001b[39mbind(\u001b[38;5;241m*\u001b[39margs, \u001b[38;5;241m*\u001b[39m\u001b[38;5;241m*\u001b[39mkwargs)\n\u001b[0;32m    138\u001b[0m flat_inputs \u001b[38;5;241m=\u001b[39m function\u001b[38;5;241m.\u001b[39mfunction_type\u001b[38;5;241m.\u001b[39munpack_inputs(bound_args)\n\u001b[1;32m--> 139\u001b[0m \u001b[38;5;28;01mreturn\u001b[39;00m \u001b[43mfunction\u001b[49m\u001b[38;5;241;43m.\u001b[39;49m\u001b[43m_call_flat\u001b[49m\u001b[43m(\u001b[49m\u001b[43m  \u001b[49m\u001b[38;5;66;43;03m# pylint: disable=protected-access\u001b[39;49;00m\n\u001b[0;32m    140\u001b[0m \u001b[43m    \u001b[49m\u001b[43mflat_inputs\u001b[49m\u001b[43m,\u001b[49m\u001b[43m \u001b[49m\u001b[43mcaptured_inputs\u001b[49m\u001b[38;5;241;43m=\u001b[39;49m\u001b[43mfunction\u001b[49m\u001b[38;5;241;43m.\u001b[39;49m\u001b[43mcaptured_inputs\u001b[49m\n\u001b[0;32m    141\u001b[0m \u001b[43m\u001b[49m\u001b[43m)\u001b[49m\n",
      "File \u001b[1;32mc:\\Users\\Ahmad\\AppData\\Local\\Programs\\Python\\Python39\\lib\\site-packages\\tensorflow\\python\\eager\\polymorphic_function\\concrete_function.py:1323\u001b[0m, in \u001b[0;36mConcreteFunction._call_flat\u001b[1;34m(self, tensor_inputs, captured_inputs)\u001b[0m\n\u001b[0;32m   1319\u001b[0m possible_gradient_type \u001b[38;5;241m=\u001b[39m gradients_util\u001b[38;5;241m.\u001b[39mPossibleTapeGradientTypes(args)\n\u001b[0;32m   1320\u001b[0m \u001b[38;5;28;01mif\u001b[39;00m (possible_gradient_type \u001b[38;5;241m==\u001b[39m gradients_util\u001b[38;5;241m.\u001b[39mPOSSIBLE_GRADIENT_TYPES_NONE\n\u001b[0;32m   1321\u001b[0m     \u001b[38;5;129;01mand\u001b[39;00m executing_eagerly):\n\u001b[0;32m   1322\u001b[0m   \u001b[38;5;66;03m# No tape is watching; skip to running the function.\u001b[39;00m\n\u001b[1;32m-> 1323\u001b[0m   \u001b[38;5;28;01mreturn\u001b[39;00m \u001b[38;5;28;43mself\u001b[39;49m\u001b[38;5;241;43m.\u001b[39;49m\u001b[43m_inference_function\u001b[49m\u001b[38;5;241;43m.\u001b[39;49m\u001b[43mcall_preflattened\u001b[49m\u001b[43m(\u001b[49m\u001b[43margs\u001b[49m\u001b[43m)\u001b[49m\n\u001b[0;32m   1324\u001b[0m forward_backward \u001b[38;5;241m=\u001b[39m \u001b[38;5;28mself\u001b[39m\u001b[38;5;241m.\u001b[39m_select_forward_and_backward_functions(\n\u001b[0;32m   1325\u001b[0m     args,\n\u001b[0;32m   1326\u001b[0m     possible_gradient_type,\n\u001b[0;32m   1327\u001b[0m     executing_eagerly)\n\u001b[0;32m   1328\u001b[0m forward_function, args_with_tangents \u001b[38;5;241m=\u001b[39m forward_backward\u001b[38;5;241m.\u001b[39mforward()\n",
      "File \u001b[1;32mc:\\Users\\Ahmad\\AppData\\Local\\Programs\\Python\\Python39\\lib\\site-packages\\tensorflow\\python\\eager\\polymorphic_function\\atomic_function.py:216\u001b[0m, in \u001b[0;36mAtomicFunction.call_preflattened\u001b[1;34m(self, args)\u001b[0m\n\u001b[0;32m    214\u001b[0m \u001b[38;5;28;01mdef\u001b[39;00m \u001b[38;5;21mcall_preflattened\u001b[39m(\u001b[38;5;28mself\u001b[39m, args: Sequence[core\u001b[38;5;241m.\u001b[39mTensor]) \u001b[38;5;241m-\u001b[39m\u001b[38;5;241m>\u001b[39m Any:\n\u001b[0;32m    215\u001b[0m \u001b[38;5;250m  \u001b[39m\u001b[38;5;124;03m\"\"\"Calls with flattened tensor inputs and returns the structured output.\"\"\"\u001b[39;00m\n\u001b[1;32m--> 216\u001b[0m   flat_outputs \u001b[38;5;241m=\u001b[39m \u001b[38;5;28;43mself\u001b[39;49m\u001b[38;5;241;43m.\u001b[39;49m\u001b[43mcall_flat\u001b[49m\u001b[43m(\u001b[49m\u001b[38;5;241;43m*\u001b[39;49m\u001b[43margs\u001b[49m\u001b[43m)\u001b[49m\n\u001b[0;32m    217\u001b[0m   \u001b[38;5;28;01mreturn\u001b[39;00m \u001b[38;5;28mself\u001b[39m\u001b[38;5;241m.\u001b[39mfunction_type\u001b[38;5;241m.\u001b[39mpack_output(flat_outputs)\n",
      "File \u001b[1;32mc:\\Users\\Ahmad\\AppData\\Local\\Programs\\Python\\Python39\\lib\\site-packages\\tensorflow\\python\\eager\\polymorphic_function\\atomic_function.py:251\u001b[0m, in \u001b[0;36mAtomicFunction.call_flat\u001b[1;34m(self, *args)\u001b[0m\n\u001b[0;32m    249\u001b[0m \u001b[38;5;28;01mwith\u001b[39;00m record\u001b[38;5;241m.\u001b[39mstop_recording():\n\u001b[0;32m    250\u001b[0m   \u001b[38;5;28;01mif\u001b[39;00m \u001b[38;5;28mself\u001b[39m\u001b[38;5;241m.\u001b[39m_bound_context\u001b[38;5;241m.\u001b[39mexecuting_eagerly():\n\u001b[1;32m--> 251\u001b[0m     outputs \u001b[38;5;241m=\u001b[39m \u001b[38;5;28;43mself\u001b[39;49m\u001b[38;5;241;43m.\u001b[39;49m\u001b[43m_bound_context\u001b[49m\u001b[38;5;241;43m.\u001b[39;49m\u001b[43mcall_function\u001b[49m\u001b[43m(\u001b[49m\n\u001b[0;32m    252\u001b[0m \u001b[43m        \u001b[49m\u001b[38;5;28;43mself\u001b[39;49m\u001b[38;5;241;43m.\u001b[39;49m\u001b[43mname\u001b[49m\u001b[43m,\u001b[49m\n\u001b[0;32m    253\u001b[0m \u001b[43m        \u001b[49m\u001b[38;5;28;43mlist\u001b[39;49m\u001b[43m(\u001b[49m\u001b[43margs\u001b[49m\u001b[43m)\u001b[49m\u001b[43m,\u001b[49m\n\u001b[0;32m    254\u001b[0m \u001b[43m        \u001b[49m\u001b[38;5;28;43mlen\u001b[39;49m\u001b[43m(\u001b[49m\u001b[38;5;28;43mself\u001b[39;49m\u001b[38;5;241;43m.\u001b[39;49m\u001b[43mfunction_type\u001b[49m\u001b[38;5;241;43m.\u001b[39;49m\u001b[43mflat_outputs\u001b[49m\u001b[43m)\u001b[49m\u001b[43m,\u001b[49m\n\u001b[0;32m    255\u001b[0m \u001b[43m    \u001b[49m\u001b[43m)\u001b[49m\n\u001b[0;32m    256\u001b[0m   \u001b[38;5;28;01melse\u001b[39;00m:\n\u001b[0;32m    257\u001b[0m     outputs \u001b[38;5;241m=\u001b[39m make_call_op_in_graph(\n\u001b[0;32m    258\u001b[0m         \u001b[38;5;28mself\u001b[39m,\n\u001b[0;32m    259\u001b[0m         \u001b[38;5;28mlist\u001b[39m(args),\n\u001b[0;32m    260\u001b[0m         \u001b[38;5;28mself\u001b[39m\u001b[38;5;241m.\u001b[39m_bound_context\u001b[38;5;241m.\u001b[39mfunction_call_options\u001b[38;5;241m.\u001b[39mas_attrs(),\n\u001b[0;32m    261\u001b[0m     )\n",
      "File \u001b[1;32mc:\\Users\\Ahmad\\AppData\\Local\\Programs\\Python\\Python39\\lib\\site-packages\\tensorflow\\python\\eager\\context.py:1486\u001b[0m, in \u001b[0;36mContext.call_function\u001b[1;34m(self, name, tensor_inputs, num_outputs)\u001b[0m\n\u001b[0;32m   1484\u001b[0m cancellation_context \u001b[38;5;241m=\u001b[39m cancellation\u001b[38;5;241m.\u001b[39mcontext()\n\u001b[0;32m   1485\u001b[0m \u001b[38;5;28;01mif\u001b[39;00m cancellation_context \u001b[38;5;129;01mis\u001b[39;00m \u001b[38;5;28;01mNone\u001b[39;00m:\n\u001b[1;32m-> 1486\u001b[0m   outputs \u001b[38;5;241m=\u001b[39m \u001b[43mexecute\u001b[49m\u001b[38;5;241;43m.\u001b[39;49m\u001b[43mexecute\u001b[49m\u001b[43m(\u001b[49m\n\u001b[0;32m   1487\u001b[0m \u001b[43m      \u001b[49m\u001b[43mname\u001b[49m\u001b[38;5;241;43m.\u001b[39;49m\u001b[43mdecode\u001b[49m\u001b[43m(\u001b[49m\u001b[38;5;124;43m\"\u001b[39;49m\u001b[38;5;124;43mutf-8\u001b[39;49m\u001b[38;5;124;43m\"\u001b[39;49m\u001b[43m)\u001b[49m\u001b[43m,\u001b[49m\n\u001b[0;32m   1488\u001b[0m \u001b[43m      \u001b[49m\u001b[43mnum_outputs\u001b[49m\u001b[38;5;241;43m=\u001b[39;49m\u001b[43mnum_outputs\u001b[49m\u001b[43m,\u001b[49m\n\u001b[0;32m   1489\u001b[0m \u001b[43m      \u001b[49m\u001b[43minputs\u001b[49m\u001b[38;5;241;43m=\u001b[39;49m\u001b[43mtensor_inputs\u001b[49m\u001b[43m,\u001b[49m\n\u001b[0;32m   1490\u001b[0m \u001b[43m      \u001b[49m\u001b[43mattrs\u001b[49m\u001b[38;5;241;43m=\u001b[39;49m\u001b[43mattrs\u001b[49m\u001b[43m,\u001b[49m\n\u001b[0;32m   1491\u001b[0m \u001b[43m      \u001b[49m\u001b[43mctx\u001b[49m\u001b[38;5;241;43m=\u001b[39;49m\u001b[38;5;28;43mself\u001b[39;49m\u001b[43m,\u001b[49m\n\u001b[0;32m   1492\u001b[0m \u001b[43m  \u001b[49m\u001b[43m)\u001b[49m\n\u001b[0;32m   1493\u001b[0m \u001b[38;5;28;01melse\u001b[39;00m:\n\u001b[0;32m   1494\u001b[0m   outputs \u001b[38;5;241m=\u001b[39m execute\u001b[38;5;241m.\u001b[39mexecute_with_cancellation(\n\u001b[0;32m   1495\u001b[0m       name\u001b[38;5;241m.\u001b[39mdecode(\u001b[38;5;124m\"\u001b[39m\u001b[38;5;124mutf-8\u001b[39m\u001b[38;5;124m\"\u001b[39m),\n\u001b[0;32m   1496\u001b[0m       num_outputs\u001b[38;5;241m=\u001b[39mnum_outputs,\n\u001b[1;32m   (...)\u001b[0m\n\u001b[0;32m   1500\u001b[0m       cancellation_manager\u001b[38;5;241m=\u001b[39mcancellation_context,\n\u001b[0;32m   1501\u001b[0m   )\n",
      "File \u001b[1;32mc:\\Users\\Ahmad\\AppData\\Local\\Programs\\Python\\Python39\\lib\\site-packages\\tensorflow\\python\\eager\\execute.py:53\u001b[0m, in \u001b[0;36mquick_execute\u001b[1;34m(op_name, num_outputs, inputs, attrs, ctx, name)\u001b[0m\n\u001b[0;32m     51\u001b[0m \u001b[38;5;28;01mtry\u001b[39;00m:\n\u001b[0;32m     52\u001b[0m   ctx\u001b[38;5;241m.\u001b[39mensure_initialized()\n\u001b[1;32m---> 53\u001b[0m   tensors \u001b[38;5;241m=\u001b[39m \u001b[43mpywrap_tfe\u001b[49m\u001b[38;5;241;43m.\u001b[39;49m\u001b[43mTFE_Py_Execute\u001b[49m\u001b[43m(\u001b[49m\u001b[43mctx\u001b[49m\u001b[38;5;241;43m.\u001b[39;49m\u001b[43m_handle\u001b[49m\u001b[43m,\u001b[49m\u001b[43m \u001b[49m\u001b[43mdevice_name\u001b[49m\u001b[43m,\u001b[49m\u001b[43m \u001b[49m\u001b[43mop_name\u001b[49m\u001b[43m,\u001b[49m\n\u001b[0;32m     54\u001b[0m \u001b[43m                                      \u001b[49m\u001b[43minputs\u001b[49m\u001b[43m,\u001b[49m\u001b[43m \u001b[49m\u001b[43mattrs\u001b[49m\u001b[43m,\u001b[49m\u001b[43m \u001b[49m\u001b[43mnum_outputs\u001b[49m\u001b[43m)\u001b[49m\n\u001b[0;32m     55\u001b[0m \u001b[38;5;28;01mexcept\u001b[39;00m core\u001b[38;5;241m.\u001b[39m_NotOkStatusException \u001b[38;5;28;01mas\u001b[39;00m e:\n\u001b[0;32m     56\u001b[0m   \u001b[38;5;28;01mif\u001b[39;00m name \u001b[38;5;129;01mis\u001b[39;00m \u001b[38;5;129;01mnot\u001b[39;00m \u001b[38;5;28;01mNone\u001b[39;00m:\n",
      "\u001b[1;31mKeyboardInterrupt\u001b[0m: "
     ]
    }
   ],
   "source": [
    "model.fit(train, validation_data=test, epochs=100, callbacks=[checkpoint_callback, schedule_callback, example_callback])"
   ]
  },
  {
   "cell_type": "code",
   "execution_count": null,
   "metadata": {},
   "outputs": [],
   "source": []
  }
 ],
 "metadata": {
  "kernelspec": {
   "display_name": "Python 3",
   "language": "python",
   "name": "python3"
  },
  "language_info": {
   "codemirror_mode": {
    "name": "ipython",
    "version": 3
   },
   "file_extension": ".py",
   "mimetype": "text/x-python",
   "name": "python",
   "nbconvert_exporter": "python",
   "pygments_lexer": "ipython3",
   "version": "3.9.9"
  }
 },
 "nbformat": 4,
 "nbformat_minor": 2
}
